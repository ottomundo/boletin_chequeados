{
 "cells": [
  {
   "cell_type": "code",
   "execution_count": 61,
   "metadata": {
    "collapsed": false
   },
   "outputs": [],
   "source": [
    "%matplotlib inline\n",
    "import matplotlib\n",
    "import numpy as np\n",
    "import matplotlib.pyplot as plt\n",
    "from IPython.core.display import HTML\n",
    "import mechanicalsoup\n"
   ]
  },
  {
   "cell_type": "code",
   "execution_count": null,
   "metadata": {
    "collapsed": false
   },
   "outputs": [
    {
     "name": "stdout",
     "output_type": "stream",
     "text": [
      "José Cano http://chequeado.com/personajes/jose-cano/\n",
      "['Verdadero ']\n",
      "Juan José Llach http://chequeado.com/personajes/juan-jose-llach/\n",
      "['Verdadero, pero… ']\n",
      "Carlos Tomada http://chequeado.com/personajes/carlos-tomada/\n",
      "['Verdadero ', 'Engañoso ', 'Engañoso ', 'Verdadero ', 'Falso ', 'Exagerado ']\n",
      "Myriam Bregman http://chequeado.com/personajes/myriam-bregman/\n",
      "[]\n",
      "Daniel Scioli http://chequeado.com/personajes/daniel-scioli/\n",
      "['Verdadero ', 'Verdadero ', 'Insostenible ', 'Verdadero ', 'Inchequeable ', 'Exagerado ', 'Falso ', 'Verdadero, pero… ', 'Discutible ', 'Exagerado ', 'Exagerado ', 'Falso ', 'Verdadero, pero… ', 'Insostenible ', 'Verdadero ', 'Insostenible ', 'Falso ', 'Falso ', 'Verdadero ', 'Verdadero ', 'Verdadero ', 'Exagerado ', 'Verdadero ', 'Verdadero ', 'Falso ', 'Verdadero ', 'Insostenible ', 'Insostenible ', 'Verdadero ', 'Verdadero, pero… ', 'Discutible ', 'Verdadero, pero… ', 'Insostenible ', 'Insostenible ']\n",
      "Agustín Rossi http://chequeado.com/personajes/agustin-rossi/\n"
     ]
    }
   ],
   "source": [
    "def get_personajes():\n",
    "    personajes = {}\n",
    "    browser = mechanicalsoup.Browser()\n",
    "    url = 'http://chequeado.com/personajes/'\n",
    "    response = browser.get(url)\n",
    "    personajes_raw = response.soup.select('.personajes-content')[0].select('li')\n",
    "    for personaje in personajes_raw:\n",
    "        personajes[personaje.text] = {'url': personaje.a['href']}\n",
    "    return personajes\n",
    "\n",
    "def chequear_personaje(personaje):\n",
    "    lista_calificaciones = []\n",
    "    browser = mechanicalsoup.Browser()\n",
    "    response = browser.get(personaje['url'])\n",
    "    personaje['calificaciones'] = []\n",
    "    personaje['url'] = response.soup.select('.nextpostslink')\n",
    "    lista_calificaciones = list(filter(lambda x: x != 'None', map(lambda x: str(x.p).replace(\"<p>\",'').replace('</p>',''), response.soup.select('.post-calificacion'))))\n",
    "    if personaje['url']:\n",
    "        personaje['url'] = personaje['url'][0]['href']\n",
    "        lista_calificaciones += chequear_personaje(personaje)\n",
    "    return lista_calificaciones\n",
    "\n",
    "personajes = get_personajes()\n",
    "for personaje in personajes:\n",
    "    print(personaje, personajes[personaje]['url'])\n",
    "    personajes[personaje]['calificaciones'] = chequear_personaje(personajes[personaje])\n",
    "    print(personajes[personaje]['calificaciones'])"
   ]
  },
  {
   "cell_type": "code",
   "execution_count": null,
   "metadata": {
    "collapsed": false
   },
   "outputs": [],
   "source": [
    "for personaje in personajes:\n",
    "    for calificacion in set(personajes[personaje]['calificaciones']):\n",
    "        personajes[personaje][calificacion] = 0\n",
    "    personajes[personaje]['total'] = 0\n",
    "    for calificacion in personajes[personaje]['calificaciones']:\n",
    "        personajes[personaje][calificacion] += 1\n",
    "        personajes[personaje]['total'] += 1\n",
    "    del(personajes[personaje]['calificaciones'])\n",
    "    del(personajes[personaje]['url'])\n",
    "    print(personaje, personajes[personaje])"
   ]
  },
  {
   "cell_type": "code",
   "execution_count": null,
   "metadata": {
    "collapsed": false,
    "scrolled": false
   },
   "outputs": [],
   "source": [
    "for personaje in personajes:\n",
    "    D = personajes[personaje]\n",
    "    if D['total'] > 0:\n",
    "        print(personaje, 'total:', D['total'])\n",
    "        plt.clf()\n",
    "        del(D['total'])\n",
    "        plt.bar(range(len(D)), D.values(), align='center')\n",
    "        plt.xticks(range(len(D)), D.keys())\n",
    "        plt.show()\n"
   ]
  },
  {
   "cell_type": "code",
   "execution_count": null,
   "metadata": {
    "collapsed": true
   },
   "outputs": [],
   "source": []
  }
 ],
 "metadata": {
  "kernelspec": {
   "display_name": "Python 3",
   "language": "python",
   "name": "python3"
  },
  "language_info": {
   "codemirror_mode": {
    "name": "ipython",
    "version": 3
   },
   "file_extension": ".py",
   "mimetype": "text/x-python",
   "name": "python",
   "nbconvert_exporter": "python",
   "pygments_lexer": "ipython3",
   "version": "3.4.5"
  }
 },
 "nbformat": 4,
 "nbformat_minor": 1
}
